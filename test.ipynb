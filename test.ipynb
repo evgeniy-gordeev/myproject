{
 "cells": [
  {
   "cell_type": "code",
   "execution_count": null,
   "metadata": {},
   "outputs": [],
   "source": [
    "import sqlite3\n",
    "\n",
    "# Assuming you have the binary image data in a variable named 'image_data'\n",
    "image_path = 'media/answer_images/IMG_0319.JPG'\n",
    "with open(image_path, 'rb') as file:\n",
    "    image_data = file.read()\n",
    "\n",
    "# Now you can use the 'image_data' variable in your SQL insert statement\n",
    "\n",
    "\n",
    "conn = sqlite3.connect('db.sqlite3')\n",
    "cursor = conn.cursor()\n",
    "\n",
    "insert_query = \"INSERT INTO myproject_answer (content, created_at, question_id, image_data) VALUES (?, ?, ?, ?)\"\n",
    "values = ('Hello', '2023-05-19 23:20:03.194100', 33, image_data)\n",
    "\n",
    "cursor.execute(insert_query, values)\n",
    "conn.commit()\n",
    "\n",
    "cursor.close()\n",
    "conn.close()\n"
   ]
  }
 ],
 "metadata": {
  "kernelspec": {
   "display_name": "Conda",
   "language": "python",
   "name": "conda"
  },
  "language_info": {
   "name": "python",
   "version": "3.9.13"
  },
  "orig_nbformat": 4
 },
 "nbformat": 4,
 "nbformat_minor": 2
}
